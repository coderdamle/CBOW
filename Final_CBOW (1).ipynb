{
  "nbformat": 4,
  "nbformat_minor": 0,
  "metadata": {
    "colab": {
      "provenance": []
    },
    "kernelspec": {
      "name": "python3",
      "display_name": "Python 3"
    },
    "language_info": {
      "name": "python"
    }
  },
  "cells": [
    {
      "cell_type": "code",
      "source": [
        "import torch \n",
        "import torch.nn as nn\n",
        "import numpy as np\n",
        "import torch.nn.functional as F"
      ],
      "metadata": {
        "id": "kCF3MJzgaz0k"
      },
      "execution_count": 1,
      "outputs": []
    },
    {
      "cell_type": "code",
      "source": [
        "raw_data=\"\"\"There is no better teacher in life than failure. Failure brings the opportunity to learn things better.\n",
        "It helps us in learning from our mistakes. Failures make us rethink and reconsider to find new ways and strategies to achieve our goals. \n",
        "Failure helps us in gaining deeper experience and better knowledge that widens our ways of growth. It plants deep value within us so that \n",
        "we can better understand life and the world around us. Every ‘failed attempt’ simply becomes a new learning experience to fine-tune our efforts. \n",
        "Failure is, in fact, the most valuable experience that teaches us new things. Failures makes us realize the importance of success\"\"\"\n",
        "raw_data=raw_data.split()\n",
        "# raw_data={\" \".join(raw_data)}\n",
        "# raw_data=str(raw_data)\n",
        "# raw_data=raw_data.split()\n",
        "# raw_data=raw_data.split()\n",
        "\n",
        "\n",
        "#context word window size\n",
        "context_words=2 #2 to the left and 2 to the right\n",
        "\n",
        "#no of hidden layers or length of embeddings(since both are equivalent)\n",
        "n=100\n",
        "\n",
        "#removing the duplicate elements from the data\n",
        "vocab=set(raw_data)\n",
        "vocab_size=len(vocab)\n",
        "index=list(range(0,len(vocab)))\n",
        "\n",
        "# word_to_ix = {word:ix for ix, word in enumerate(vocab)}\n",
        "# ix_to_word = {ix:word for ix, word in enumerate(vocab)}\n",
        "# print(word_to_ix)\n",
        "#dict_words for converting index:word\n",
        "dict_words=dict(zip(index,vocab))\n",
        "dict_keys=list(dict_words.keys())\n",
        "# type(dict_keys)\n",
        "#dict_index for converting word:index\n",
        "dict_index=dict(zip(vocab,index))\n",
        "dict_index_k=list(dict_index.keys())\n",
        "print(dict_index)"
      ],
      "metadata": {
        "id": "m25RWp4Pazw9",
        "colab": {
          "base_uri": "https://localhost:8080/"
        },
        "outputId": "c7839746-83ee-4226-c119-254b8e33c5d5"
      },
      "execution_count": 2,
      "outputs": [
        {
          "output_type": "stream",
          "name": "stdout",
          "text": [
            "{'simply': 0, 'from': 1, 'knowledge': 2, 'find': 3, 'Failures': 4, 'attempt’': 5, 'learning': 6, 'achieve': 7, 'It': 8, 'new': 9, 'strategies': 10, 'most': 11, 'make': 12, 'widens': 13, 'the': 14, 'us': 15, 'learn': 16, 'brings': 17, 'experience': 18, 'can': 19, 'things.': 20, 'better': 21, 'so': 22, 'than': 23, 'to': 24, 'Every': 25, 'helps': 26, 'becomes': 27, 'valuable': 28, 'goals.': 29, 'realize': 30, 'our': 31, 'better.': 32, 'There': 33, 'deeper': 34, 'understand': 35, 'no': 36, 'Failure': 37, 'of': 38, 'mistakes.': 39, 'efforts.': 40, 'teacher': 41, '‘failed': 42, 'plants': 43, 'ways': 44, 'gaining': 45, 'reconsider': 46, 'rethink': 47, 'world': 48, 'a': 49, 'deep': 50, 'value': 51, 'that': 52, 'importance': 53, 'success': 54, 'is,': 55, 'teaches': 56, 'and': 57, 'is': 58, 'things': 59, 'failure.': 60, 'opportunity': 61, 'fact,': 62, 'growth.': 63, 'makes': 64, 'around': 65, 'we': 66, 'us.': 67, 'life': 68, 'fine-tune': 69, 'in': 70, 'within': 71}\n"
          ]
        }
      ]
    },
    {
      "cell_type": "code",
      "source": [
        "data = []\n",
        "for i in range(2, len(raw_data) - 2):\n",
        "    context = [raw_data[i - 2], raw_data[i - 1],\n",
        "               raw_data[i + 1], raw_data[i + 2]]\n",
        "    target = raw_data[i]\n",
        "    data.append((context, target))\n",
        "\n",
        "print(data)"
      ],
      "metadata": {
        "id": "PkQUWJDGazuC",
        "colab": {
          "base_uri": "https://localhost:8080/"
        },
        "outputId": "c0b5b005-c8f4-4e27-9e29-0aa4e64b3bbb"
      },
      "execution_count": 3,
      "outputs": [
        {
          "output_type": "stream",
          "name": "stdout",
          "text": [
            "[(['There', 'is', 'better', 'teacher'], 'no'), (['is', 'no', 'teacher', 'in'], 'better'), (['no', 'better', 'in', 'life'], 'teacher'), (['better', 'teacher', 'life', 'than'], 'in'), (['teacher', 'in', 'than', 'failure.'], 'life'), (['in', 'life', 'failure.', 'Failure'], 'than'), (['life', 'than', 'Failure', 'brings'], 'failure.'), (['than', 'failure.', 'brings', 'the'], 'Failure'), (['failure.', 'Failure', 'the', 'opportunity'], 'brings'), (['Failure', 'brings', 'opportunity', 'to'], 'the'), (['brings', 'the', 'to', 'learn'], 'opportunity'), (['the', 'opportunity', 'learn', 'things'], 'to'), (['opportunity', 'to', 'things', 'better.'], 'learn'), (['to', 'learn', 'better.', 'It'], 'things'), (['learn', 'things', 'It', 'helps'], 'better.'), (['things', 'better.', 'helps', 'us'], 'It'), (['better.', 'It', 'us', 'in'], 'helps'), (['It', 'helps', 'in', 'learning'], 'us'), (['helps', 'us', 'learning', 'from'], 'in'), (['us', 'in', 'from', 'our'], 'learning'), (['in', 'learning', 'our', 'mistakes.'], 'from'), (['learning', 'from', 'mistakes.', 'Failures'], 'our'), (['from', 'our', 'Failures', 'make'], 'mistakes.'), (['our', 'mistakes.', 'make', 'us'], 'Failures'), (['mistakes.', 'Failures', 'us', 'rethink'], 'make'), (['Failures', 'make', 'rethink', 'and'], 'us'), (['make', 'us', 'and', 'reconsider'], 'rethink'), (['us', 'rethink', 'reconsider', 'to'], 'and'), (['rethink', 'and', 'to', 'find'], 'reconsider'), (['and', 'reconsider', 'find', 'new'], 'to'), (['reconsider', 'to', 'new', 'ways'], 'find'), (['to', 'find', 'ways', 'and'], 'new'), (['find', 'new', 'and', 'strategies'], 'ways'), (['new', 'ways', 'strategies', 'to'], 'and'), (['ways', 'and', 'to', 'achieve'], 'strategies'), (['and', 'strategies', 'achieve', 'our'], 'to'), (['strategies', 'to', 'our', 'goals.'], 'achieve'), (['to', 'achieve', 'goals.', 'Failure'], 'our'), (['achieve', 'our', 'Failure', 'helps'], 'goals.'), (['our', 'goals.', 'helps', 'us'], 'Failure'), (['goals.', 'Failure', 'us', 'in'], 'helps'), (['Failure', 'helps', 'in', 'gaining'], 'us'), (['helps', 'us', 'gaining', 'deeper'], 'in'), (['us', 'in', 'deeper', 'experience'], 'gaining'), (['in', 'gaining', 'experience', 'and'], 'deeper'), (['gaining', 'deeper', 'and', 'better'], 'experience'), (['deeper', 'experience', 'better', 'knowledge'], 'and'), (['experience', 'and', 'knowledge', 'that'], 'better'), (['and', 'better', 'that', 'widens'], 'knowledge'), (['better', 'knowledge', 'widens', 'our'], 'that'), (['knowledge', 'that', 'our', 'ways'], 'widens'), (['that', 'widens', 'ways', 'of'], 'our'), (['widens', 'our', 'of', 'growth.'], 'ways'), (['our', 'ways', 'growth.', 'It'], 'of'), (['ways', 'of', 'It', 'plants'], 'growth.'), (['of', 'growth.', 'plants', 'deep'], 'It'), (['growth.', 'It', 'deep', 'value'], 'plants'), (['It', 'plants', 'value', 'within'], 'deep'), (['plants', 'deep', 'within', 'us'], 'value'), (['deep', 'value', 'us', 'so'], 'within'), (['value', 'within', 'so', 'that'], 'us'), (['within', 'us', 'that', 'we'], 'so'), (['us', 'so', 'we', 'can'], 'that'), (['so', 'that', 'can', 'better'], 'we'), (['that', 'we', 'better', 'understand'], 'can'), (['we', 'can', 'understand', 'life'], 'better'), (['can', 'better', 'life', 'and'], 'understand'), (['better', 'understand', 'and', 'the'], 'life'), (['understand', 'life', 'the', 'world'], 'and'), (['life', 'and', 'world', 'around'], 'the'), (['and', 'the', 'around', 'us.'], 'world'), (['the', 'world', 'us.', 'Every'], 'around'), (['world', 'around', 'Every', '‘failed'], 'us.'), (['around', 'us.', '‘failed', 'attempt’'], 'Every'), (['us.', 'Every', 'attempt’', 'simply'], '‘failed'), (['Every', '‘failed', 'simply', 'becomes'], 'attempt’'), (['‘failed', 'attempt’', 'becomes', 'a'], 'simply'), (['attempt’', 'simply', 'a', 'new'], 'becomes'), (['simply', 'becomes', 'new', 'learning'], 'a'), (['becomes', 'a', 'learning', 'experience'], 'new'), (['a', 'new', 'experience', 'to'], 'learning'), (['new', 'learning', 'to', 'fine-tune'], 'experience'), (['learning', 'experience', 'fine-tune', 'our'], 'to'), (['experience', 'to', 'our', 'efforts.'], 'fine-tune'), (['to', 'fine-tune', 'efforts.', 'Failure'], 'our'), (['fine-tune', 'our', 'Failure', 'is,'], 'efforts.'), (['our', 'efforts.', 'is,', 'in'], 'Failure'), (['efforts.', 'Failure', 'in', 'fact,'], 'is,'), (['Failure', 'is,', 'fact,', 'the'], 'in'), (['is,', 'in', 'the', 'most'], 'fact,'), (['in', 'fact,', 'most', 'valuable'], 'the'), (['fact,', 'the', 'valuable', 'experience'], 'most'), (['the', 'most', 'experience', 'that'], 'valuable'), (['most', 'valuable', 'that', 'teaches'], 'experience'), (['valuable', 'experience', 'teaches', 'us'], 'that'), (['experience', 'that', 'us', 'new'], 'teaches'), (['that', 'teaches', 'new', 'things.'], 'us'), (['teaches', 'us', 'things.', 'Failures'], 'new'), (['us', 'new', 'Failures', 'makes'], 'things.'), (['new', 'things.', 'makes', 'us'], 'Failures'), (['things.', 'Failures', 'us', 'realize'], 'makes'), (['Failures', 'makes', 'realize', 'the'], 'us'), (['makes', 'us', 'the', 'importance'], 'realize'), (['us', 'realize', 'importance', 'of'], 'the'), (['realize', 'the', 'of', 'success'], 'importance')]\n"
          ]
        }
      ]
    },
    {
      "cell_type": "code",
      "source": [
        "print(len(raw_data))\n",
        "print(vocab)\n",
        "print(dict_words)\n",
        "print(vocab_size)"
      ],
      "metadata": {
        "id": "6fMxIY-HazrO",
        "colab": {
          "base_uri": "https://localhost:8080/"
        },
        "outputId": "45168584-83d0-4b95-f5e2-fbea548559a0"
      },
      "execution_count": 4,
      "outputs": [
        {
          "output_type": "stream",
          "name": "stdout",
          "text": [
            "109\n",
            "{'simply', 'from', 'knowledge', 'find', 'Failures', 'attempt’', 'learning', 'achieve', 'It', 'new', 'strategies', 'most', 'make', 'widens', 'the', 'us', 'learn', 'brings', 'experience', 'can', 'things.', 'better', 'so', 'than', 'to', 'Every', 'helps', 'becomes', 'valuable', 'goals.', 'realize', 'our', 'better.', 'There', 'deeper', 'understand', 'no', 'Failure', 'of', 'mistakes.', 'efforts.', 'teacher', '‘failed', 'plants', 'ways', 'gaining', 'reconsider', 'rethink', 'world', 'a', 'deep', 'value', 'that', 'importance', 'success', 'is,', 'teaches', 'and', 'is', 'things', 'failure.', 'opportunity', 'fact,', 'growth.', 'makes', 'around', 'we', 'us.', 'life', 'fine-tune', 'in', 'within'}\n",
            "{0: 'simply', 1: 'from', 2: 'knowledge', 3: 'find', 4: 'Failures', 5: 'attempt’', 6: 'learning', 7: 'achieve', 8: 'It', 9: 'new', 10: 'strategies', 11: 'most', 12: 'make', 13: 'widens', 14: 'the', 15: 'us', 16: 'learn', 17: 'brings', 18: 'experience', 19: 'can', 20: 'things.', 21: 'better', 22: 'so', 23: 'than', 24: 'to', 25: 'Every', 26: 'helps', 27: 'becomes', 28: 'valuable', 29: 'goals.', 30: 'realize', 31: 'our', 32: 'better.', 33: 'There', 34: 'deeper', 35: 'understand', 36: 'no', 37: 'Failure', 38: 'of', 39: 'mistakes.', 40: 'efforts.', 41: 'teacher', 42: '‘failed', 43: 'plants', 44: 'ways', 45: 'gaining', 46: 'reconsider', 47: 'rethink', 48: 'world', 49: 'a', 50: 'deep', 51: 'value', 52: 'that', 53: 'importance', 54: 'success', 55: 'is,', 56: 'teaches', 57: 'and', 58: 'is', 59: 'things', 60: 'failure.', 61: 'opportunity', 62: 'fact,', 63: 'growth.', 64: 'makes', 65: 'around', 66: 'we', 67: 'us.', 68: 'life', 69: 'fine-tune', 70: 'in', 71: 'within'}\n",
            "72\n"
          ]
        }
      ]
    },
    {
      "cell_type": "code",
      "source": [
        "one_hot_data=[]\n",
        "target_label=[]\n",
        "for i in range(2,len(raw_data)-2):\n",
        "  # one_hot_context=[one_hot[dict_index[raw_data[i - 2]]],one_hot[dict_index[raw_data[i - 1]]],\n",
        "  #                  one_hot[dict_index[raw_data[i + 1]]],one_hot[dict_index[raw_data[i + 2]]]]\n",
        "  one_hot_context=np.zeros(vocab_size)\n",
        "  one_hot_context[dict_index[raw_data[i-2]]]=1\n",
        "  one_hot_context[dict_index[raw_data[i-1]]]=1\n",
        "  one_hot_context[dict_index[raw_data[i+2]]]=1\n",
        "  one_hot_context[dict_index[raw_data[i+1]]]=1\n",
        "  one_hot_target=np.zeros(vocab_size)\n",
        "  one_hot_target[dict_index[raw_data[i]]]=1\n",
        "  target=dict_index[raw_data[i]]\n",
        "  target=torch.tensor(target)\n",
        "  target_label.append(target)\n",
        "  one_hot_data.append((one_hot_context,one_hot_target))\n",
        "# print(one_hot_data)"
      ],
      "metadata": {
        "id": "aetq9rDwazod"
      },
      "execution_count": 5,
      "outputs": []
    },
    {
      "cell_type": "code",
      "source": [
        "class CBOW(nn.Module):\n",
        "  def __init__(self,vocab_size,em_size):\n",
        "    super(CBOW,self).__init__()\n",
        "\n",
        "    self.linear1=nn.Linear(vocab_size,em_size)\n",
        "    self.activation_fun=nn.ReLU()\n",
        "    self.linear2=nn.Linear(em_size,vocab_size)\n",
        "    self.act_fun=nn.LogSoftmax(dim=-1)\n",
        "\n",
        "\n",
        "  def forward(self,input):\n",
        "    out=self.linear1(input)\n",
        "    # print(\"input= \")\n",
        "    # for i in input:\n",
        "    #   print(dict_words[torch.argmax(i).item()])\n",
        "    # print(dict_words[torch.argmax(input).item()])\n",
        "    out=self.activation_fun(out)\n",
        "    out=self.linear2(out)\n",
        "    out=self.act_fun(out)\n",
        "    # print(\"output= \")\n",
        "    # print(dict_words[torch.argmax(out).item()])\n",
        "    return out.float()"
      ],
      "metadata": {
        "id": "UgoaMbRBazlw"
      },
      "execution_count": 6,
      "outputs": []
    },
    {
      "cell_type": "code",
      "source": [
        "#Training\n",
        "model=CBOW(vocab_size,n)\n",
        "loss_fun = nn.NLLLoss()\n",
        "Loss=[]\n",
        "# acc=[]\n",
        "optimizer = torch.optim.SGD(model.parameters(), lr=0.001)\n",
        "raw_data_word={}\n",
        "for epoch in range(100):\n",
        "    total_loss=0\n",
        "\n",
        "    for l, (context,target) in enumerate(one_hot_data):\n",
        "      context=torch.Tensor(context)\n",
        "      context=context.view(1,-1)\n",
        "    # print(\"epoch \", epoch)\n",
        "    # print(\"Context= \",context.shape)\n",
        "      target=torch.Tensor(target)\n",
        "      target=target.view(1,-1)\n",
        "    # print(\"target= \",target[0].shape)\n",
        "      log_probs=model(context)\n",
        "      # predicted=torch.max(log_probs.data)\n",
        "\n",
        "\n",
        "    # print(\"Log_probs= \",log_probs.shape)\n",
        "    # log_probs=torch.Tensor(log_probs)\n",
        "      log_probs=log_probs.view(target.size(0),-1)\n",
        "    # print(\"Log_probs= \",log_probs[0].shape)\n",
        "    # print(log_probs[0].shape)\n",
        "    # print(\"type log_pros= \",type(log_probs))\n",
        "    # print(\"type target= \",type(target))\n",
        "    # print(log_probs[0])\n",
        "    # print(target[0])\n",
        "      total_loss+=loss_fun(log_probs[0],target[0].long())\n",
        "      \n",
        "    \n",
        "    Loss.append(float(total_loss))\n",
        "  # print(\"loss= \",total_loss)\n",
        "    optimizer.zero_grad()\n",
        "  # print(\"op\")\n",
        "    total_loss.backward()\n",
        "  # print(\"back\")\n",
        "    optimizer.step()\n",
        "  # print(\"step\")"
      ],
      "metadata": {
        "id": "4VGj3vj-azi_"
      },
      "execution_count": 7,
      "outputs": []
    },
    {
      "cell_type": "code",
      "source": [
        "import matplotlib.pyplot as plt\n",
        "plt.plot(Loss)\n",
        "plt.show()"
      ],
      "metadata": {
        "id": "3gCxTF0fazgB",
        "colab": {
          "base_uri": "https://localhost:8080/",
          "height": 265
        },
        "outputId": "9e0e983c-c472-4088-af8d-0f69777a77db"
      },
      "execution_count": 8,
      "outputs": [
        {
          "output_type": "display_data",
          "data": {
            "text/plain": [
              "<Figure size 432x288 with 1 Axes>"
            ],
            "image/png": "[encoded data removed]"
          },
          "metadata": {
            "needs_background": "light"
          }
        }
      ]
    },
    {
      "cell_type": "code",
      "execution_count": 9,
      "metadata": {
        "id": "WvPiZ7mTawvq",
        "colab": {
          "base_uri": "https://localhost:8080/"
        },
        "outputId": "dbe056d9-1cfb-44fb-eb60-4aa5c974adc7"
      },
      "outputs": [
        {
          "output_type": "stream",
          "name": "stdout",
          "text": [
            "{'simply': 0, 'from': 1, 'knowledge': 2, 'find': 3, 'Failures': 4, 'attempt’': 5, 'learning': 6, 'achieve': 7, 'It': 8, 'new': 9, 'strategies': 10, 'most': 11, 'make': 12, 'widens': 13, 'the': 14, 'us': 15, 'learn': 16, 'brings': 17, 'experience': 18, 'can': 19, 'things.': 20, 'better': 21, 'so': 22, 'than': 23, 'to': 24, 'Every': 25, 'helps': 26, 'becomes': 27, 'valuable': 28, 'goals.': 29, 'realize': 30, 'our': 31, 'better.': 32, 'There': 33, 'deeper': 34, 'understand': 35, 'no': 36, 'Failure': 37, 'of': 38, 'mistakes.': 39, 'efforts.': 40, 'teacher': 41, '‘failed': 42, 'plants': 43, 'ways': 44, 'gaining': 45, 'reconsider': 46, 'rethink': 47, 'world': 48, 'a': 49, 'deep': 50, 'value': 51, 'that': 52, 'importance': 53, 'success': 54, 'is,': 55, 'teaches': 56, 'and': 57, 'is': 58, 'things': 59, 'failure.': 60, 'opportunity': 61, 'fact,': 62, 'growth.': 63, 'makes': 64, 'around': 65, 'we': 66, 'us.': 67, 'life': 68, 'fine-tune': 69, 'in': 70, 'within': 71}\n"
          ]
        },
        {
          "output_type": "stream",
          "name": "stderr",
          "text": [
            "<ipython-input-9-2df8eef0320f>:12: UserWarning: To copy construct from a tensor, it is recommended to use sourceTensor.clone().detach() or sourceTensor.clone().detach().requires_grad_(True), rather than torch.tensor(sourceTensor).\n",
            "  a=torch.tensor(a)\n",
            "<ipython-input-9-2df8eef0320f>:13: UserWarning: To copy construct from a tensor, it is recommended to use sourceTensor.clone().detach() or sourceTensor.clone().detach().requires_grad_(True), rather than torch.tensor(sourceTensor).\n",
            "  b=torch.tensor(b)\n"
          ]
        }
      ],
      "source": [
        "\n",
        "print(dict_index)\n",
        "context1=np.zeros(vocab_size)\n",
        "context1=np.array(context1)\n",
        "context1=torch.tensor(context1)\n",
        "context1[dict_index['Failures']]=1\n",
        "context2=np.zeros(vocab_size)\n",
        "context2=np.array(context2)\n",
        "context2=torch.tensor(context2)\n",
        "context2[dict_index['Failures']]=1\n",
        "a=model(context1.float())\n",
        "b=model(context2.float())\n",
        "a=torch.tensor(a)\n",
        "b=torch.tensor(b)\n",
        "ang=np.arccos(np.clip(np.dot(a, b),-1.0,1.0))\n",
        "# deg=ang*180/(np.pi)\n",
        "# print(ang)"
      ]
    },
    {
      "cell_type": "code",
      "source": [
        "print(ang)"
      ],
      "metadata": {
        "id": "4xlcxKE6bPfx",
        "colab": {
          "base_uri": "https://localhost:8080/"
        },
        "outputId": "c7160da9-8024-41f8-9ee4-fe3a00577534"
      },
      "execution_count": 10,
      "outputs": [
        {
          "output_type": "stream",
          "name": "stdout",
          "text": [
            "0.0\n"
          ]
        }
      ]
    },
    {
      "cell_type": "code",
      "source": [],
      "metadata": {
        "id": "IrR9Xj6Pj4El"
      },
      "execution_count": null,
      "outputs": []
    }
  ]
}